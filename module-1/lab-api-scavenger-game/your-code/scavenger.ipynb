{
 "cells": [
  {
   "cell_type": "code",
   "execution_count": 60,
   "metadata": {},
   "outputs": [
    {
     "data": {
      "text/plain": [
       "True"
      ]
     },
     "execution_count": 60,
     "metadata": {},
     "output_type": "execute_result"
    }
   ],
   "source": [
    "import os\n",
    "from dotenv import load_dotenv\n",
    "import json\n",
    "import requests\n",
    "import re\n",
    "load_dotenv()"
   ]
  },
  {
   "cell_type": "code",
   "execution_count": 61,
   "metadata": {},
   "outputs": [],
   "source": [
    "my_key = open(\"./git_key.txt\").readlines()[0]"
   ]
  },
  {
   "cell_type": "code",
   "execution_count": 62,
   "metadata": {},
   "outputs": [
    {
     "data": {
      "text/plain": [
       "'83118958aeb6a4b9ee6afadefc1e0f69332b6b0a'"
      ]
     },
     "execution_count": 62,
     "metadata": {},
     "output_type": "execute_result"
    }
   ],
   "source": [
    "my_key.strip()"
   ]
  },
  {
   "cell_type": "raw",
   "metadata": {},
   "source": [
    "###################### CHALLENGE 1 ####################"
   ]
  },
  {
   "cell_type": "code",
   "execution_count": 63,
   "metadata": {},
   "outputs": [],
   "source": [
    "url_forks = \"http://api.github.com/repos/ironhack-datalabs/datamad1020-rev/forks\""
   ]
  },
  {
   "cell_type": "code",
   "execution_count": 64,
   "metadata": {},
   "outputs": [],
   "source": [
    "response = requests.get(url_forks)"
   ]
  },
  {
   "cell_type": "code",
   "execution_count": 65,
   "metadata": {},
   "outputs": [
    {
     "data": {
      "text/plain": [
       "200"
      ]
     },
     "execution_count": 65,
     "metadata": {},
     "output_type": "execute_result"
    }
   ],
   "source": [
    "response.status_code"
   ]
  },
  {
   "cell_type": "code",
   "execution_count": 66,
   "metadata": {},
   "outputs": [],
   "source": [
    "data = response.json()"
   ]
  },
  {
   "cell_type": "code",
   "execution_count": 67,
   "metadata": {},
   "outputs": [
    {
     "data": {
      "text/plain": [
       "list"
      ]
     },
     "execution_count": 67,
     "metadata": {},
     "output_type": "execute_result"
    }
   ],
   "source": [
    "type(data)"
   ]
  },
  {
   "cell_type": "code",
   "execution_count": 68,
   "metadata": {},
   "outputs": [
    {
     "data": {
      "text/plain": [
       "21"
      ]
     },
     "execution_count": 68,
     "metadata": {},
     "output_type": "execute_result"
    }
   ],
   "source": [
    "len(data)"
   ]
  },
  {
   "cell_type": "code",
   "execution_count": 69,
   "metadata": {},
   "outputs": [
    {
     "data": {
      "text/plain": [
       "'Jupyter Notebook'"
      ]
     },
     "execution_count": 69,
     "metadata": {},
     "output_type": "execute_result"
    }
   ],
   "source": [
    "data[0].get(\"language\")"
   ]
  },
  {
   "cell_type": "code",
   "execution_count": 70,
   "metadata": {},
   "outputs": [],
   "source": [
    "language = [f.get(\"language\")for f in data]"
   ]
  },
  {
   "cell_type": "code",
   "execution_count": 71,
   "metadata": {},
   "outputs": [
    {
     "data": {
      "text/plain": [
       "['Jupyter Notebook',\n",
       " 'Jupyter Notebook',\n",
       " 'Jupyter Notebook',\n",
       " 'Jupyter Notebook',\n",
       " 'Jupyter Notebook',\n",
       " 'Jupyter Notebook',\n",
       " 'Jupyter Notebook',\n",
       " 'Jupyter Notebook',\n",
       " 'Jupyter Notebook',\n",
       " 'Jupyter Notebook',\n",
       " 'Jupyter Notebook',\n",
       " 'Jupyter Notebook',\n",
       " 'Jupyter Notebook',\n",
       " 'Jupyter Notebook',\n",
       " 'Jupyter Notebook',\n",
       " 'Jupyter Notebook',\n",
       " 'Jupyter Notebook',\n",
       " 'Jupyter Notebook',\n",
       " 'Jupyter Notebook',\n",
       " 'Jupyter Notebook',\n",
       " 'Jupyter Notebook']"
      ]
     },
     "execution_count": 71,
     "metadata": {},
     "output_type": "execute_result"
    }
   ],
   "source": [
    "language"
   ]
  },
  {
   "cell_type": "code",
   "execution_count": 72,
   "metadata": {},
   "outputs": [],
   "source": [
    "different_languages = list(set(language))"
   ]
  },
  {
   "cell_type": "code",
   "execution_count": 73,
   "metadata": {},
   "outputs": [
    {
     "data": {
      "text/plain": [
       "['Jupyter Notebook']"
      ]
     },
     "execution_count": 73,
     "metadata": {},
     "output_type": "execute_result"
    }
   ],
   "source": [
    "different_languages"
   ]
  },
  {
   "cell_type": "raw",
   "metadata": {},
   "source": [
    "####### commits ######"
   ]
  },
  {
   "cell_type": "code",
   "execution_count": 74,
   "metadata": {},
   "outputs": [],
   "source": [
    "url_commit = \"http://api.github.com/repos/ironhack-datalabs/datamad1020-rev/commits\""
   ]
  },
  {
   "cell_type": "code",
   "execution_count": null,
   "metadata": {},
   "outputs": [],
   "source": []
  },
  {
   "cell_type": "code",
   "execution_count": 75,
   "metadata": {},
   "outputs": [],
   "source": [
    "r_commit = requests.get(url_commit)"
   ]
  },
  {
   "cell_type": "code",
   "execution_count": 76,
   "metadata": {},
   "outputs": [
    {
     "data": {
      "text/plain": [
       "200"
      ]
     },
     "execution_count": 76,
     "metadata": {},
     "output_type": "execute_result"
    }
   ],
   "source": [
    "r_commit.status_code"
   ]
  },
  {
   "cell_type": "code",
   "execution_count": 77,
   "metadata": {},
   "outputs": [],
   "source": [
    "commit = r_commit.json()"
   ]
  },
  {
   "cell_type": "code",
   "execution_count": 79,
   "metadata": {},
   "outputs": [
    {
     "data": {
      "text/plain": [
       "{'sha': 'b374563d7adba8723c0e959b78fd47c80b09e0da',\n",
       " 'node_id': 'MDY6Q29tbWl0MzA0MjQ4NTM5OmIzNzQ1NjNkN2FkYmE4NzIzYzBlOTU5Yjc4ZmQ0N2M4MGIwOWUwZGE=',\n",
       " 'commit': {'author': {'name': 'sheriffff',\n",
       "   'email': 'manuel.lopez.sheriff@gmail.com',\n",
       "   'date': '2020-11-10T19:19:52Z'},\n",
       "  'committer': {'name': 'sheriffff',\n",
       "   'email': 'manuel.lopez.sheriff@gmail.com',\n",
       "   'date': '2020-11-10T19:19:52Z'},\n",
       "  'message': \"Merge branch 'master' of github.com:ironhack-datalabs/datamad1020-rev\",\n",
       "  'tree': {'sha': 'f2d3d63c1c073b12bb2302f146675cd4ad3c1413',\n",
       "   'url': 'https://api.github.com/repos/ironhack-datalabs/datamad1020-rev/git/trees/f2d3d63c1c073b12bb2302f146675cd4ad3c1413'},\n",
       "  'url': 'https://api.github.com/repos/ironhack-datalabs/datamad1020-rev/git/commits/b374563d7adba8723c0e959b78fd47c80b09e0da',\n",
       "  'comment_count': 0,\n",
       "  'verification': {'verified': False,\n",
       "   'reason': 'unsigned',\n",
       "   'signature': None,\n",
       "   'payload': None}},\n",
       " 'url': 'https://api.github.com/repos/ironhack-datalabs/datamad1020-rev/commits/b374563d7adba8723c0e959b78fd47c80b09e0da',\n",
       " 'html_url': 'https://github.com/ironhack-datalabs/datamad1020-rev/commit/b374563d7adba8723c0e959b78fd47c80b09e0da',\n",
       " 'comments_url': 'https://api.github.com/repos/ironhack-datalabs/datamad1020-rev/commits/b374563d7adba8723c0e959b78fd47c80b09e0da/comments',\n",
       " 'author': {'login': 'sheriffff',\n",
       "  'id': 23318929,\n",
       "  'node_id': 'MDQ6VXNlcjIzMzE4OTI5',\n",
       "  'avatar_url': 'https://avatars2.githubusercontent.com/u/23318929?v=4',\n",
       "  'gravatar_id': '',\n",
       "  'url': 'https://api.github.com/users/sheriffff',\n",
       "  'html_url': 'https://github.com/sheriffff',\n",
       "  'followers_url': 'https://api.github.com/users/sheriffff/followers',\n",
       "  'following_url': 'https://api.github.com/users/sheriffff/following{/other_user}',\n",
       "  'gists_url': 'https://api.github.com/users/sheriffff/gists{/gist_id}',\n",
       "  'starred_url': 'https://api.github.com/users/sheriffff/starred{/owner}{/repo}',\n",
       "  'subscriptions_url': 'https://api.github.com/users/sheriffff/subscriptions',\n",
       "  'organizations_url': 'https://api.github.com/users/sheriffff/orgs',\n",
       "  'repos_url': 'https://api.github.com/users/sheriffff/repos',\n",
       "  'events_url': 'https://api.github.com/users/sheriffff/events{/privacy}',\n",
       "  'received_events_url': 'https://api.github.com/users/sheriffff/received_events',\n",
       "  'type': 'User',\n",
       "  'site_admin': False},\n",
       " 'committer': {'login': 'sheriffff',\n",
       "  'id': 23318929,\n",
       "  'node_id': 'MDQ6VXNlcjIzMzE4OTI5',\n",
       "  'avatar_url': 'https://avatars2.githubusercontent.com/u/23318929?v=4',\n",
       "  'gravatar_id': '',\n",
       "  'url': 'https://api.github.com/users/sheriffff',\n",
       "  'html_url': 'https://github.com/sheriffff',\n",
       "  'followers_url': 'https://api.github.com/users/sheriffff/followers',\n",
       "  'following_url': 'https://api.github.com/users/sheriffff/following{/other_user}',\n",
       "  'gists_url': 'https://api.github.com/users/sheriffff/gists{/gist_id}',\n",
       "  'starred_url': 'https://api.github.com/users/sheriffff/starred{/owner}{/repo}',\n",
       "  'subscriptions_url': 'https://api.github.com/users/sheriffff/subscriptions',\n",
       "  'organizations_url': 'https://api.github.com/users/sheriffff/orgs',\n",
       "  'repos_url': 'https://api.github.com/users/sheriffff/repos',\n",
       "  'events_url': 'https://api.github.com/users/sheriffff/events{/privacy}',\n",
       "  'received_events_url': 'https://api.github.com/users/sheriffff/received_events',\n",
       "  'type': 'User',\n",
       "  'site_admin': False},\n",
       " 'parents': [{'sha': 'ffe8e118d7d6a564610d1e4e23bba58b56625166',\n",
       "   'url': 'https://api.github.com/repos/ironhack-datalabs/datamad1020-rev/commits/ffe8e118d7d6a564610d1e4e23bba58b56625166',\n",
       "   'html_url': 'https://github.com/ironhack-datalabs/datamad1020-rev/commit/ffe8e118d7d6a564610d1e4e23bba58b56625166'},\n",
       "  {'sha': 'ad9ca91e907686ce57b2a3ac89d2c0e6e2d46f36',\n",
       "   'url': 'https://api.github.com/repos/ironhack-datalabs/datamad1020-rev/commits/ad9ca91e907686ce57b2a3ac89d2c0e6e2d46f36',\n",
       "   'html_url': 'https://github.com/ironhack-datalabs/datamad1020-rev/commit/ad9ca91e907686ce57b2a3ac89d2c0e6e2d46f36'}]}"
      ]
     },
     "execution_count": 79,
     "metadata": {},
     "output_type": "execute_result"
    }
   ],
   "source": [
    "commit[0]"
   ]
  },
  {
   "cell_type": "code",
   "execution_count": 80,
   "metadata": {},
   "outputs": [
    {
     "data": {
      "text/plain": [
       "list"
      ]
     },
     "execution_count": 80,
     "metadata": {},
     "output_type": "execute_result"
    }
   ],
   "source": [
    "type(commit)"
   ]
  },
  {
   "cell_type": "code",
   "execution_count": 81,
   "metadata": {},
   "outputs": [
    {
     "data": {
      "text/plain": [
       "30"
      ]
     },
     "execution_count": 81,
     "metadata": {},
     "output_type": "execute_result"
    }
   ],
   "source": [
    "len(commit)"
   ]
  },
  {
   "cell_type": "code",
   "execution_count": 85,
   "metadata": {},
   "outputs": [
    {
     "data": {
      "text/plain": [
       "{'author': {'name': 'sheriffff',\n",
       "  'email': 'manuel.lopez.sheriff@gmail.com',\n",
       "  'date': '2020-11-10T19:19:52Z'},\n",
       " 'committer': {'name': 'sheriffff',\n",
       "  'email': 'manuel.lopez.sheriff@gmail.com',\n",
       "  'date': '2020-11-10T19:19:52Z'},\n",
       " 'message': \"Merge branch 'master' of github.com:ironhack-datalabs/datamad1020-rev\",\n",
       " 'tree': {'sha': 'f2d3d63c1c073b12bb2302f146675cd4ad3c1413',\n",
       "  'url': 'https://api.github.com/repos/ironhack-datalabs/datamad1020-rev/git/trees/f2d3d63c1c073b12bb2302f146675cd4ad3c1413'},\n",
       " 'url': 'https://api.github.com/repos/ironhack-datalabs/datamad1020-rev/git/commits/b374563d7adba8723c0e959b78fd47c80b09e0da',\n",
       " 'comment_count': 0,\n",
       " 'verification': {'verified': False,\n",
       "  'reason': 'unsigned',\n",
       "  'signature': None,\n",
       "  'payload': None}}"
      ]
     },
     "execution_count": 85,
     "metadata": {},
     "output_type": "execute_result"
    }
   ],
   "source": [
    "commit[0].get(\"commit\")"
   ]
  },
  {
   "cell_type": "code",
   "execution_count": 90,
   "metadata": {},
   "outputs": [
    {
     "data": {
      "text/plain": [
       "dict_keys(['sha', 'node_id', 'commit', 'url', 'html_url', 'comments_url', 'author', 'committer', 'parents'])"
      ]
     },
     "execution_count": 90,
     "metadata": {},
     "output_type": "execute_result"
    }
   ],
   "source": [
    "commit[0].keys()"
   ]
  },
  {
   "cell_type": "code",
   "execution_count": null,
   "metadata": {},
   "outputs": [],
   "source": []
  },
  {
   "cell_type": "code",
   "execution_count": 91,
   "metadata": {},
   "outputs": [],
   "source": [
    "num_commits = len(commit)"
   ]
  },
  {
   "cell_type": "code",
   "execution_count": 92,
   "metadata": {},
   "outputs": [
    {
     "data": {
      "text/plain": [
       "30"
      ]
     },
     "execution_count": 92,
     "metadata": {},
     "output_type": "execute_result"
    }
   ],
   "source": [
    "num_commits"
   ]
  },
  {
   "cell_type": "code",
   "execution_count": null,
   "metadata": {},
   "outputs": [],
   "source": []
  },
  {
   "cell_type": "code",
   "execution_count": null,
   "metadata": {},
   "outputs": [],
   "source": []
  },
  {
   "cell_type": "code",
   "execution_count": null,
   "metadata": {},
   "outputs": [],
   "source": []
  },
  {
   "cell_type": "code",
   "execution_count": null,
   "metadata": {},
   "outputs": [],
   "source": []
  },
  {
   "cell_type": "code",
   "execution_count": null,
   "metadata": {},
   "outputs": [],
   "source": []
  },
  {
   "cell_type": "code",
   "execution_count": null,
   "metadata": {},
   "outputs": [],
   "source": []
  },
  {
   "cell_type": "code",
   "execution_count": null,
   "metadata": {},
   "outputs": [],
   "source": []
  },
  {
   "cell_type": "code",
   "execution_count": null,
   "metadata": {},
   "outputs": [],
   "source": []
  },
  {
   "cell_type": "code",
   "execution_count": null,
   "metadata": {},
   "outputs": [],
   "source": []
  },
  {
   "cell_type": "code",
   "execution_count": null,
   "metadata": {},
   "outputs": [],
   "source": []
  },
  {
   "cell_type": "code",
   "execution_count": null,
   "metadata": {},
   "outputs": [],
   "source": []
  },
  {
   "cell_type": "code",
   "execution_count": null,
   "metadata": {},
   "outputs": [],
   "source": []
  }
 ],
 "metadata": {
  "kernelspec": {
   "display_name": "Python 3",
   "language": "python",
   "name": "python3"
  },
  "language_info": {
   "codemirror_mode": {
    "name": "ipython",
    "version": 3
   },
   "file_extension": ".py",
   "mimetype": "text/x-python",
   "name": "python",
   "nbconvert_exporter": "python",
   "pygments_lexer": "ipython3",
   "version": "3.8.5"
  }
 },
 "nbformat": 4,
 "nbformat_minor": 4
}
